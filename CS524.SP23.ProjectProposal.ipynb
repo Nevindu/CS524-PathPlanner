{
 "cells": [
  {
   "cell_type": "markdown",
   "metadata": {},
   "source": [
    "### CS/ECE/ISyE 524 &mdash; Introduction to Optimization &mdash; Spring 2023 ###\n",
    "\n",
    "# Trajectory Optimization for Autonomous Vehicles\n",
    "\n",
    "#### NEVINDU BATAGODA (batagoda@wis.edu)\n",
    "#### ISHAAN MAHAJAN (imahajan@wisc.edu) \n",
    "\n"
   ]
  },
  {
   "cell_type": "markdown",
   "metadata": {},
   "source": [
    "#### Please insert your answers in the cells below. Use only Markdown notation, not Julia code"
   ]
  },
  {
   "cell_type": "markdown",
   "metadata": {},
   "source": [
    "### (A) Issue being addressed in this project"
   ]
  },
  {
   "cell_type": "markdown",
   "metadata": {},
   "source": [
    "This project is inspired by our work as members of Wisconsin Autonomous student organization. We are part of a university team competing in the AutoDrive Challenge II competition organized by SAE International and General Motors. The goal of this competition is to build a self-driving car capable of navigating urban environmets.\n",
    "\n",
    "As part of the control stack of the self driving car  there are three planners: 1) The High Level planner which creates a set of target waypoints to follow, 2) The Mid Level planner which generates a smooth trajectory from the waypoints and 3) A Low Level planner, which uses a feedback control algorithm to generate a target velocity and heading which is then passed into the vehicle as a throttle and a steering input.\n",
    "\n",
    "In this project we plan to adress the trajectory optimization problem of the Mid Level planner of the Wisconsin Autonomous control stack. The theoretical foundation for our work will be based on the work done by University of Toronto during the previous iteration of the competition (AutoDrive Challenge I) (https://onlinelibrary.wiley.coma/doi/full/10.1002/rob.21958). \n",
    "\n",
    "The goal is to generate a path $P = [\\mathbf{X_1}...\\mathbf{X_N}]$, from the way points generated from the High Level planner, $x_i = [x_i \\quad y_i \\quad \\theta_i]$, where $\\theta_i$ is the heading angle at way point $i$.\n",
    "\n",
    "The optimal path $\\mathbf{P}^*$, minimizes the cost of the path by solving the following optimization problem,\n",
    "\n",
    "$$ \n",
    "\\min\\limits_{E_{i,cur}, E_{i,dev}, E_{i,obs}} \\quad \\sum_{i=1}^N E_{i,cur} + E_{i,dev} + E_{i,obs} \\\\\n",
    "$$\n",
    "\n",
    "$E_{i,cur} = w_{cur}(\\frac{\\Delta\\theta_i}{|\\Delta x_i|})$ is the curvature term that minimizes the abrupt steering actions. $\\Delta\\theta_i$ is the change in heading at $x_i$, $\\Delta x_i$ is the change in position and $w_{cur}$ is the weight of the curvature term.\n",
    "\n",
    "$E_{i,dev} = w_{dev}|x_i - c_i|$ is the deviation term which ensures the final path is closer to the center of the road. $c_i$ is the centerline point closest to $x_i$ and $w_{dev}$ is the weight of the deviation term.\n",
    "\n",
    "$E_{i,obs} = \\begin{cases}\n",
    "               0, & |x_i - o_i| \\geq d \\\\\n",
    "               w_{obs}(\\frac{d_{obs}}{|x_i - o_i|} -  1)^2, & |x_i - o_i| < d\n",
    "            \\end{cases}$ is the obstacle term which keeps the path away from obstaces. $o_i$ is the distance to the obstacle closest to $x_i$, $d$ is some tolerance threshold and $w_{obs}$ is weight of the observation term.\n"
   ]
  },
  {
   "cell_type": "markdown",
   "metadata": {},
   "source": [
    "### (B) What kind of data will you need, where will it come from, and how will you obtain it?"
   ]
  },
  {
   "cell_type": "markdown",
   "metadata": {},
   "source": [
    "We will need the current state of the vehicle that includes the current position, velocity, and orientation of the car, along with lane line information from the HD map. All this data will come from the Localization subteam for the competiton purpose, however, for this project, we will be simulating our own input data in Julia.\n"
   ]
  },
  {
   "cell_type": "markdown",
   "metadata": {},
   "source": [
    "### (C) What is the optimization problem underlying this project? (LP, QP, SOCP, MIP, NLP, other?)"
   ]
  },
  {
   "cell_type": "markdown",
   "metadata": {},
   "source": [
    "- Non-convex optimization problem"
   ]
  },
  {
   "cell_type": "markdown",
   "metadata": {},
   "source": [
    "### (D) What will you deliver in terms of code, results, outcomes?"
   ]
  },
  {
   "cell_type": "markdown",
   "metadata": {},
   "source": [
    "- We will write a JuMP program using Julia to solve the optimization problem and then test the program using different scenarios to generate a trajectory. Some scenarios include, \n",
    "    - Creating straight line trajectory.\n",
    "    - Creating a smoothed curved trajectory.\n",
    "    - Creating an obstacle avoidance trajectory which has a smooth lane line change.\n",
    "    \n",
    "- For each scenario we will create a plot of Cost Vs Way point position."
   ]
  },
  {
   "cell_type": "markdown",
   "metadata": {},
   "source": [
    "### (E) Other points to be considered."
   ]
  },
  {
   "cell_type": "markdown",
   "metadata": {},
   "source": [
    "- N/A"
   ]
  },
  {
   "cell_type": "code",
   "execution_count": null,
   "metadata": {},
   "outputs": [],
   "source": []
  }
 ],
 "metadata": {
  "kernelspec": {
   "display_name": "Julia 1.8.5",
   "language": "julia",
   "name": "julia-1.8"
  },
  "language_info": {
   "file_extension": ".jl",
   "mimetype": "application/julia",
   "name": "julia",
   "version": "1.8.5"
  }
 },
 "nbformat": 4,
 "nbformat_minor": 1
}
