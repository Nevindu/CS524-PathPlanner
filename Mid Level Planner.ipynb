{
 "cells": [
  {
   "cell_type": "code",
   "execution_count": 1,
   "id": "df2405ab",
   "metadata": {},
   "outputs": [],
   "source": [
    "using JuMP\n",
    "using Gurobi, Ipopt\n",
    "using PyPlot\n",
    "using LinearAlgebra\n",
    "using CSV\n",
    "using DataFrames\n",
    "using NonlinearSolve"
   ]
  },
  {
   "cell_type": "code",
   "execution_count": 5,
   "id": "d575c5c9",
   "metadata": {},
   "outputs": [
    {
     "name": "stderr",
     "output_type": "stream",
     "text": [
      "\u001b[32m\u001b[1m    Updating\u001b[22m\u001b[39m registry at `C:\\Users\\nevin\\.julia\\registries\\General.toml`\n",
      "\u001b[32m\u001b[1m   Resolving\u001b[22m\u001b[39m package versions...\n",
      "\u001b[32m\u001b[1m    Updating\u001b[22m\u001b[39m `C:\\Users\\nevin\\.julia\\environments\\v1.8\\Project.toml`\n",
      " \u001b[90m [864edb3b] \u001b[39m\u001b[92m+ DataStructures v0.18.13\u001b[39m\n",
      "\u001b[32m\u001b[1m  No Changes\u001b[22m\u001b[39m to `C:\\Users\\nevin\\.julia\\environments\\v1.8\\Manifest.toml`\n"
     ]
    }
   ],
   "source": [
    "using Pkg\n",
    "Pkg.add(\"DataStructures\")"
   ]
  },
  {
   "cell_type": "code",
   "execution_count": 2,
   "id": "51d55580",
   "metadata": {},
   "outputs": [
    {
     "data": {
      "text/html": [
       "<div><div style = \"float: left;\"><span>99×2 DataFrame</span></div><div style = \"float: right;\"><span style = \"font-style: italic;\">74 rows omitted</span></div><div style = \"clear: both;\"></div></div><div class = \"data-frame\" style = \"overflow-x: scroll;\"><table class = \"data-frame\" style = \"margin-bottom: 6px;\"><thead><tr class = \"header\"><th class = \"rowNumber\" style = \"font-weight: bold; text-align: right;\">Row</th><th style = \"text-align: left;\">1.447213595499957872e+00</th><th style = \"text-align: left;\">7.763932022500210639e-01</th></tr><tr class = \"subheader headerLastRow\"><th class = \"rowNumber\" style = \"font-weight: bold; text-align: right;\"></th><th title = \"Float64\" style = \"text-align: left;\">Float64</th><th title = \"Float64\" style = \"text-align: left;\">Float64</th></tr></thead><tbody><tr><td class = \"rowNumber\" style = \"font-weight: bold; text-align: right;\">1</td><td style = \"text-align: right;\">1.47256</td><td style = \"text-align: right;\">0.830615</td></tr><tr><td class = \"rowNumber\" style = \"font-weight: bold; text-align: right;\">2</td><td style = \"text-align: right;\">1.49827</td><td style = \"text-align: right;\">0.88373</td></tr><tr><td class = \"rowNumber\" style = \"font-weight: bold; text-align: right;\">3</td><td style = \"text-align: right;\">1.52434</td><td style = \"text-align: right;\">0.935739</td></tr><tr><td class = \"rowNumber\" style = \"font-weight: bold; text-align: right;\">4</td><td style = \"text-align: right;\">1.55077</td><td style = \"text-align: right;\">0.986641</td></tr><tr><td class = \"rowNumber\" style = \"font-weight: bold; text-align: right;\">5</td><td style = \"text-align: right;\">1.57754</td><td style = \"text-align: right;\">1.03644</td></tr><tr><td class = \"rowNumber\" style = \"font-weight: bold; text-align: right;\">6</td><td style = \"text-align: right;\">1.60465</td><td style = \"text-align: right;\">1.08513</td></tr><tr><td class = \"rowNumber\" style = \"font-weight: bold; text-align: right;\">7</td><td style = \"text-align: right;\">1.63209</td><td style = \"text-align: right;\">1.13271</td></tr><tr><td class = \"rowNumber\" style = \"font-weight: bold; text-align: right;\">8</td><td style = \"text-align: right;\">1.65986</td><td style = \"text-align: right;\">1.17918</td></tr><tr><td class = \"rowNumber\" style = \"font-weight: bold; text-align: right;\">9</td><td style = \"text-align: right;\">1.68794</td><td style = \"text-align: right;\">1.22455</td></tr><tr><td class = \"rowNumber\" style = \"font-weight: bold; text-align: right;\">10</td><td style = \"text-align: right;\">1.71633</td><td style = \"text-align: right;\">1.26882</td></tr><tr><td class = \"rowNumber\" style = \"font-weight: bold; text-align: right;\">11</td><td style = \"text-align: right;\">1.74502</td><td style = \"text-align: right;\">1.31197</td></tr><tr><td class = \"rowNumber\" style = \"font-weight: bold; text-align: right;\">12</td><td style = \"text-align: right;\">1.774</td><td style = \"text-align: right;\">1.35402</td></tr><tr><td class = \"rowNumber\" style = \"font-weight: bold; text-align: right;\">13</td><td style = \"text-align: right;\">1.80327</td><td style = \"text-align: right;\">1.39497</td></tr><tr><td style = \"text-align: right;\">&vellip;</td><td style = \"text-align: right;\">&vellip;</td><td style = \"text-align: right;\">&vellip;</td></tr><tr><td class = \"rowNumber\" style = \"font-weight: bold; text-align: right;\">88</td><td style = \"text-align: right;\">4.25498</td><td style = \"text-align: right;\">1.31197</td></tr><tr><td class = \"rowNumber\" style = \"font-weight: bold; text-align: right;\">89</td><td style = \"text-align: right;\">4.28367</td><td style = \"text-align: right;\">1.26882</td></tr><tr><td class = \"rowNumber\" style = \"font-weight: bold; text-align: right;\">90</td><td style = \"text-align: right;\">4.31206</td><td style = \"text-align: right;\">1.22455</td></tr><tr><td class = \"rowNumber\" style = \"font-weight: bold; text-align: right;\">91</td><td style = \"text-align: right;\">4.34014</td><td style = \"text-align: right;\">1.17918</td></tr><tr><td class = \"rowNumber\" style = \"font-weight: bold; text-align: right;\">92</td><td style = \"text-align: right;\">4.36791</td><td style = \"text-align: right;\">1.13271</td></tr><tr><td class = \"rowNumber\" style = \"font-weight: bold; text-align: right;\">93</td><td style = \"text-align: right;\">4.39535</td><td style = \"text-align: right;\">1.08513</td></tr><tr><td class = \"rowNumber\" style = \"font-weight: bold; text-align: right;\">94</td><td style = \"text-align: right;\">4.42246</td><td style = \"text-align: right;\">1.03644</td></tr><tr><td class = \"rowNumber\" style = \"font-weight: bold; text-align: right;\">95</td><td style = \"text-align: right;\">4.44923</td><td style = \"text-align: right;\">0.986641</td></tr><tr><td class = \"rowNumber\" style = \"font-weight: bold; text-align: right;\">96</td><td style = \"text-align: right;\">4.47566</td><td style = \"text-align: right;\">0.935739</td></tr><tr><td class = \"rowNumber\" style = \"font-weight: bold; text-align: right;\">97</td><td style = \"text-align: right;\">4.50173</td><td style = \"text-align: right;\">0.88373</td></tr><tr><td class = \"rowNumber\" style = \"font-weight: bold; text-align: right;\">98</td><td style = \"text-align: right;\">4.52744</td><td style = \"text-align: right;\">0.830615</td></tr><tr><td class = \"rowNumber\" style = \"font-weight: bold; text-align: right;\">99</td><td style = \"text-align: right;\">4.55279</td><td style = \"text-align: right;\">0.776393</td></tr></tbody></table></div>"
      ],
      "text/latex": [
       "\\begin{tabular}{r|cc}\n",
       "\t& 1.447213595499957872e+00 & 7.763932022500210639e-01\\\\\n",
       "\t\\hline\n",
       "\t& Float64 & Float64\\\\\n",
       "\t\\hline\n",
       "\t1 & 1.47256 & 0.830615 \\\\\n",
       "\t2 & 1.49827 & 0.88373 \\\\\n",
       "\t3 & 1.52434 & 0.935739 \\\\\n",
       "\t4 & 1.55077 & 0.986641 \\\\\n",
       "\t5 & 1.57754 & 1.03644 \\\\\n",
       "\t6 & 1.60465 & 1.08513 \\\\\n",
       "\t7 & 1.63209 & 1.13271 \\\\\n",
       "\t8 & 1.65986 & 1.17918 \\\\\n",
       "\t9 & 1.68794 & 1.22455 \\\\\n",
       "\t10 & 1.71633 & 1.26882 \\\\\n",
       "\t11 & 1.74502 & 1.31197 \\\\\n",
       "\t12 & 1.774 & 1.35402 \\\\\n",
       "\t13 & 1.80327 & 1.39497 \\\\\n",
       "\t14 & 1.83282 & 1.4348 \\\\\n",
       "\t15 & 1.86264 & 1.47353 \\\\\n",
       "\t16 & 1.89271 & 1.51116 \\\\\n",
       "\t17 & 1.92305 & 1.54767 \\\\\n",
       "\t18 & 1.95363 & 1.58308 \\\\\n",
       "\t19 & 1.98445 & 1.61739 \\\\\n",
       "\t20 & 2.0155 & 1.65058 \\\\\n",
       "\t21 & 2.04678 & 1.68267 \\\\\n",
       "\t22 & 2.07827 & 1.71366 \\\\\n",
       "\t23 & 2.10997 & 1.74354 \\\\\n",
       "\t24 & 2.14188 & 1.77231 \\\\\n",
       "\t25 & 2.17398 & 1.79997 \\\\\n",
       "\t26 & 2.20626 & 1.82653 \\\\\n",
       "\t27 & 2.23873 & 1.85198 \\\\\n",
       "\t28 & 2.27136 & 1.87632 \\\\\n",
       "\t29 & 2.30416 & 1.89956 \\\\\n",
       "\t30 & 2.33711 & 1.92169 \\\\\n",
       "\t$\\dots$ & $\\dots$ & $\\dots$ \\\\\n",
       "\\end{tabular}\n"
      ],
      "text/plain": [
       "\u001b[1m99×2 DataFrame\u001b[0m\n",
       "\u001b[1m Row \u001b[0m│\u001b[1m 1.447213595499957872e+00 \u001b[0m\u001b[1m 7.763932022500210639e-01 \u001b[0m\n",
       "     │\u001b[90m Float64                  \u001b[0m\u001b[90m Float64                  \u001b[0m\n",
       "─────┼────────────────────────────────────────────────────\n",
       "   1 │                  1.47256                  0.830615\n",
       "   2 │                  1.49827                  0.88373\n",
       "   3 │                  1.52434                  0.935739\n",
       "   4 │                  1.55077                  0.986641\n",
       "   5 │                  1.57754                  1.03644\n",
       "   6 │                  1.60465                  1.08513\n",
       "   7 │                  1.63209                  1.13271\n",
       "   8 │                  1.65986                  1.17918\n",
       "   9 │                  1.68794                  1.22455\n",
       "  10 │                  1.71633                  1.26882\n",
       "  11 │                  1.74502                  1.31197\n",
       "  ⋮  │            ⋮                         ⋮\n",
       "  90 │                  4.31206                  1.22455\n",
       "  91 │                  4.34014                  1.17918\n",
       "  92 │                  4.36791                  1.13271\n",
       "  93 │                  4.39535                  1.08513\n",
       "  94 │                  4.42246                  1.03644\n",
       "  95 │                  4.44923                  0.986641\n",
       "  96 │                  4.47566                  0.935739\n",
       "  97 │                  4.50173                  0.88373\n",
       "  98 │                  4.52744                  0.830615\n",
       "  99 │                  4.55279                  0.776393\n",
       "\u001b[36m                                           78 rows omitted\u001b[0m"
      ]
     },
     "execution_count": 2,
     "metadata": {},
     "output_type": "execute_result"
    }
   ],
   "source": [
    "# read data\n",
    "l1 = DataFrame(CSV.File(\"data\\\\top_2.csv\"))\n",
    "lm = DataFrame(CSV.File(\"data\\\\middle_2.csv\"))\n",
    "l3  = DataFrame(CSV.File(\"data\\\\bottom_2.csv\"))"
   ]
  },
  {
   "cell_type": "code",
   "execution_count": null,
   "id": "a350d3a4",
   "metadata": {
    "scrolled": false
   },
   "outputs": [],
   "source": [
    "N = 50\n",
    "lx = l1[!,1][1:N]\n",
    "ly = l1[!,2][1:N]\n",
    "\n",
    "rx = l3[!,1][1:N]\n",
    "ry = l3[!,2][1:N]\n",
    "\n",
    "mx = lm[!,1][1:N]\n",
    "my = lm[!,2][1:N]\n",
    "\n",
    "cx1 = (lx + mx)/2\n",
    "cy1 = (ly + my)/2\n",
    "\n",
    "cx2 =  (rx + mx)/2\n",
    "cy2 =  (ry + my)/2\n",
    "\n",
    "ox = cx2[20]\n",
    "oy = cy2[20]\n",
    "\n",
    "plot(lx,ly)\n",
    "plot(rx,ry)\n",
    "plot(mx,my)\n",
    "plot(cx1,cy1)\n",
    "plot(cx2, cy2)\n",
    "scatter(ox,oy)"
   ]
  },
  {
   "cell_type": "code",
   "execution_count": null,
   "id": "f82af4cc",
   "metadata": {
    "scrolled": true
   },
   "outputs": [],
   "source": [
    "cx1[1:19]"
   ]
  },
  {
   "cell_type": "code",
   "execution_count": null,
   "id": "b54def8d",
   "metadata": {},
   "outputs": [],
   "source": [
    "cx = cx2[1:19]\n",
    "append!(cx, cx1[20:end])\n",
    "cy = cy2[1:19]\n",
    "append!(cy, cy1[20:end])\n",
    "plot(lx,ly)\n",
    "plot(rx,ry)\n",
    "plot(mx,my)\n",
    "scatter(cx,cy)"
   ]
  },
  {
   "cell_type": "code",
   "execution_count": null,
   "id": "08f0655c",
   "metadata": {},
   "outputs": [],
   "source": [
    "# function E_cur(i)\n",
    "#     i = trunc(Int, i)\n",
    "#     if i == 1\n",
    "#         v1 = X[i,:]\n",
    "#         v2 = X[i+1,:] - X[i,:]\n",
    "#         norm_v1 = v1'*v1\n",
    "#         norm_v2 = v2'*v2\n",
    "#         dTheta = acos( dot(v1,v2)/ (norm_v1*norm_v2))\n",
    "#         deltaX = X[i,:]'*X[i,:]\n",
    "#         return dTheta/deltaX\n",
    "#     elseif i == N\n",
    "#         v1 = X[i,:] - X[i-1,:]\n",
    "#         v2 = -X[i,:]\n",
    "#         norm_v1 = v1'*v1\n",
    "#         norm_v2 = v2'*v2\n",
    "#         v1v2 = dot(v1,v2)\n",
    "#         #dTheta = acos( dot(v1,v2)/ (norm_v1*norm_v2))\n",
    "#         @NLexpression(m, dTheta,  acos(v1v2/ (norm_v1*norm_v2)))\n",
    "#         dx_norm =  (X[i,:] - X[i-1,:])'*(X[i,:] - X[i-1,:]) \n",
    "#         @NLexpression(m, deltaX, dx_norm)\n",
    "#         return dTheta/deltaX\n",
    "#     else\n",
    "#         v1 = X[i,:] - X[i-1,:]\n",
    "#         v2 = X[i+1,:] - X[i,:]\n",
    "#         norm_v1 = v1'*v1\n",
    "#         norm_v2 = v2'*v2\n",
    "        \n",
    "#         dTheta = acos( dot(v1,v2)/ (norm_v1*norm_v2))\n",
    "#         deltaX = (X[i,:] - X[i-1,:])'*((X[i,:] - X[i-1,:]))\n",
    "#         return dTheta/deltaX       \n",
    "#     end\n",
    "# end"
   ]
  },
  {
   "cell_type": "code",
   "execution_count": null,
   "id": "ae262c92",
   "metadata": {},
   "outputs": [],
   "source": [
    "function E_cur_i(xi,yi,xprev,yprev,xnext,ynext)\n",
    "    v1x = xi - xprev\n",
    "    v1y = yi - yprev\n",
    "    \n",
    "    v2x = xnext - xi\n",
    "    v2y = ynext - yi\n",
    "\n",
    "    v1v2 = v1x*v2x + v1y*v2y\n",
    "    v1norm = sqrt(v1x^2 + v1y^2)\n",
    "    v2norm = sqrt(v2x^2 + v2y^2)\n",
    "    \n",
    "    deltaTheta = acos(v1v2/(v1norm*v2norm))\n",
    "    deltaX = v1norm\n",
    "    \n",
    "    return deltaTheta/deltaX\n",
    "end"
   ]
  },
  {
   "cell_type": "code",
   "execution_count": null,
   "id": "0e8ab7ec",
   "metadata": {},
   "outputs": [],
   "source": [
    "function E_dev_i(x,y,cx,cy)\n",
    "    dx = (x - cx)^2\n",
    "    dy = (y - cy)^2\n",
    "    #println(dx + dy)\n",
    "    return dx + dy\n",
    "end"
   ]
  },
  {
   "cell_type": "code",
   "execution_count": null,
   "id": "83f1f820",
   "metadata": {},
   "outputs": [],
   "source": [
    "function E_obs_i(xi,yi,ox,oy)\n",
    "    thresh = 0.5\n",
    "    dxo = (xi - ox)^2\n",
    "    dyo = (yi - oy)^2\n",
    "    dobsnorm = sqrt(dxo + dyo)\n",
    "    \n",
    "    E_obs = 0.0\n",
    "    if dobsnorm > 0 && dobsnorm < thresh\n",
    "        E_obs = ((1/dobsnorm) - 1)^2\n",
    "        #println(dobsnorm)\n",
    "    end\n",
    "    \n",
    "    return E_obs\n",
    "end"
   ]
  },
  {
   "cell_type": "code",
   "execution_count": null,
   "id": "5a3c8864",
   "metadata": {},
   "outputs": [],
   "source": [
    "function E_i(xi,yi,xprev,yprev,xnext,ynext,cx,cy,ox,oy)\n",
    "    \n",
    "#     # curvature term\n",
    "#     v1x = xi - xprev\n",
    "#     v1y = yi - yprev\n",
    "    \n",
    "#     v2x = xnext - xi\n",
    "#     v2y = ynext - yi\n",
    "\n",
    "#     v1v2 = v1x*v2x + v1y*v2y\n",
    "#     v1norm = sqrt(v1x^2 + v1y^2)\n",
    "#     v2norm = sqrt(v2x^2 + v2y^2)\n",
    "    \n",
    "#     deltaTheta = acos(v1v2/(v1norm*v2norm))\n",
    "#     deltaX = v1norm\n",
    "    \n",
    "#     E_cur = deltaTheta/deltaX\n",
    "    \n",
    "    # Deviation term\n",
    "    dx = (xi - cx)^2\n",
    "    dy = (yi - cy)^2\n",
    "    \n",
    "    E_dev = (dx + dy)\n",
    "    \n",
    "#     # Obstacle term\n",
    "#     thresh = 0.5\n",
    "#     dxo = (xi - ox)^2\n",
    "#     dyo = (yi - oy)^2\n",
    "#     dobsnorm = sqrt(dxo + dyo)\n",
    "    \n",
    "#     E_obs = 0\n",
    "#     if dobsnorm < thresh\n",
    "#         E_obs = ((1/dobsnorm) - 1)^2\n",
    "#     end\n",
    "    #println(\"Hello\", E_dev)\n",
    "    return E_dev\n",
    "end"
   ]
  },
  {
   "cell_type": "code",
   "execution_count": null,
   "id": "4ec38b88",
   "metadata": {},
   "outputs": [],
   "source": [
    "function ∇E_i()"
   ]
  },
  {
   "cell_type": "code",
   "execution_count": null,
   "id": "a0b25ac3",
   "metadata": {
    "scrolled": false
   },
   "outputs": [],
   "source": [
    "m = Model(Ipopt.Optimizer)\n",
    "register(m, :E_cur_i, 6, E_cur_i, autodiff=true)\n",
    "register(m, :E_dev_i, 4, E_dev_i, autodiff=true)\n",
    "register(m, :E_obs_i, 4, E_obs_i, autodiff=true)\n",
    "#register(m, :E_i, 10, E_i, autodiff=true)\n",
    "w_cur = 1\n",
    "w_dev = 1\n",
    "w_obs = 1\n",
    "@variable(m,x[1:N])\n",
    "@variable(m, y[1:N])\n",
    "set_start_value.(x, cx)\n",
    "set_start_value.(y, cy)\n",
    "\n",
    "\n",
    "#delta_theta = [ (x[i] - x[i+1]) for i = 1:99]\n",
    "#@NLexpression(m, E_cur, sum(E_cur_i(x[i],y[i], x[i-1],y[i-1], x[i+1],y[i+1]) for i in 2:99))\n",
    "@NLexpression(m, E_dev, sum(E_dev_i(x[i],y[i], cx[i], cy[i]) for  i in 1:N))\n",
    "@NLexpression(m, E_obs, sum(E_obs_i(x[i],y[i],ox,oy)  for i in 1:N))\n",
    "#@NLexpression(m, E_cur, sum(  acos( dot((X[i,:] - X[i-1,:]), (X[i+1,:] - X[i,:]))/(  ((X[i,:] - X[i-1,:])'*(X[i,:] - X[i-1,:]))*((X[i+1,:] - X[i,:])'*(X[i+1,:] - X[i,:])) )) /  ((X[i,:] - X[i-1,:])'*((X[i,:] - X[i-1,:])))    for i in 2:99) )\n",
    "@NLobjective(m, Min, E_dev + E_obs)\n",
    "\n",
    "#@NLobjective(m, Min, sum(E_i(x[i],y[i], x[i-1],y[i-1], x[i+1],y[i+1],cx[i],cy[i], ox,oy) for i in 2:99 ))\n",
    "#print(m)\n",
    "\n",
    "optimize!(m)"
   ]
  },
  {
   "cell_type": "code",
   "execution_count": null,
   "id": "14357535",
   "metadata": {},
   "outputs": [],
   "source": [
    "xopt = value.(x)\n",
    "yopt = value.(y)"
   ]
  },
  {
   "cell_type": "code",
   "execution_count": null,
   "id": "f413fbf3",
   "metadata": {},
   "outputs": [],
   "source": [
    "#plot(lx,ly)\n",
    "#plot(rx,ry)\n",
    "#plot(cx,cy)\n",
    "plot(xopt,yopt)"
   ]
  },
  {
   "cell_type": "code",
   "execution_count": 7,
   "id": "63c81ab2",
   "metadata": {},
   "outputs": [
    {
     "data": {
      "text/plain": [
       "update! (generic function with 1 method)"
      ]
     },
     "execution_count": 7,
     "metadata": {},
     "output_type": "execute_result"
    }
   ],
   "source": [
    "mutable struct PIDController\n",
    "    Kp::Float64\n",
    "    Ki::Float64\n",
    "    Kd::Float64\n",
    "    setpoint::Float64\n",
    "    last_error::Float64\n",
    "    integral::Float64\n",
    "end\n",
    "\n",
    "function PIDController(Kp::Float64, Ki::Float64, Kd::Float64, setpoint::Float64)\n",
    "    return PIDController(Kp, Ki, Kd, setpoint, 0.0, 0.0)\n",
    "end\n",
    "\n",
    "function update!(pid::PIDController, measured_value::Float64, dt::Float64)\n",
    "    error = pid.setpoint - measured_value\n",
    "    pid.integral += error * dt\n",
    "    derivative = (error - pid.last_error) / dt\n",
    "    output = pid.Kp * error + pid.Ki * pid.integral + pid.Kd * derivative\n",
    "    pid.last_error = error\n",
    "\n",
    "    return output\n",
    "end\n"
   ]
  },
  {
   "cell_type": "code",
   "execution_count": 8,
   "id": "96b4c591",
   "metadata": {},
   "outputs": [
    {
     "name": "stdout",
     "output_type": "stream",
     "text": [
      "System state history: Any[1.0250000000000001, 1.364875, 1.7574506250000002, 2.121711371875, 2.466768975015625, 2.791907287340547, 3.097564161077844, 3.384115670494785, 3.6520019870495934, 3.901706181299886, 4.133749637449101, 4.348686073606258, 4.5470961377788734, 4.729582352043787, 4.8967644181127605, 5.049274870303867, 5.18775506431213, 5.312851489416291, 5.425212391453364, 5.525484693636172, 5.614311202117944, 5.692328083111054, 5.760162598338163, 5.818431085627471, 5.8677371715534905, 5.908670203165469, 5.941803886031827, 5.9676951160559515, 5.986882992781608, 5.999888002200637, 6.0072113573974235, 6.009334485709768, 6.0067186514507735, 5.999804703617558, 5.989012938406999, 5.974743066763195, 5.95737427759328, 5.937265387705001, 5.914755069938861, 5.890162151387427, 5.863785974012729, 5.835906810387764, 5.806786327698383, 5.776668093545889, 5.745778117487227, 5.714325422637612, 5.682502642038865, 5.650486634864712, 5.618439117891191, 5.586507308005504, 5.554824571859574, 5.5235110790949635, 5.492674455873208, 5.462410435739976, 5.432803505132514, 5.40392754110756, 5.375846439121312, 5.348614728934212, 5.322278176941236, 5.296874373443439, 5.272433303578686, 5.248977900819211, 5.22652458212106, 5.205083763975987, 5.184660358770232, 5.16525425099727, 5.146860753003339, 5.129471040065881, 5.113072564716192, 5.097649450319114, 5.083182864014887, 5.069651369211724, 5.057031257892712, 5.045296863067723, 5.034420851760491, 5.024374498973405, 5.015127943118145, 5.006650423439638, 4.998910499994108, 4.991876256769863, 4.985515488562064, 4.979795872230591, 4.974685122983479, 4.9701511363377255, 4.966162116414723, 4.962686691229671, 4.959694015633182, 4.957153862559319, 4.955036703227783, 4.953313776939029, 4.951957151090177, 4.95093977202677, 4.9502355073310245, 4.949819180131432, 4.949666596001527, 4.949754562997636, 4.950060905366544, 4.950564471434449, 4.951245136168491, 4.952083798881673]\n",
      "Control input history: Any[10.25, 3.3987499999999997, 3.9257562500000005, 3.6426074687499996, 3.4505760314062504, 3.2513831232492185, 3.0565687373729724, 2.865515094169408, 2.6788631655480843, 2.497041942502929, 2.3204345614921573, 2.1493643615715645, 1.9841006417261542, 1.8248621426491356, 1.6718206606897352, 1.5251045219110628, 1.3848019400826308, 1.2509642510416041, 1.123609020370731, 1.0027230218280772, 0.8882650848177258, 0.7801688099310919, 0.6783451522710926, 0.5826848728930751, 0.49306085926019594, 0.40933031611978965, 0.3313368286635785, 0.2589123002412508, 0.19187876725656117, 0.13005009419029334, 0.07323355196785819, 0.021231283123444467, -0.026158342589947425, -0.06913947833215162, -0.10791765210559345, -0.14269871643804055, -0.17368789169915166, -0.20108889888278858, -0.22510317766139587, -0.24592918551433962, -0.26376177374698184, -0.2787916362496565, -0.29120482689381155, -0.30118234152493484, -0.3088997605866226, -0.31452694849615265, -0.31822780598746575, -0.3201600717415309, -0.3204751697352064, -0.31931809885687856, -0.316827361459299, -0.3131349276461053, -0.30836623221756276, -0.30264020133232183, -0.2960693060746128, -0.28875964024954726, -0.28081101986247825, -0.27231710187100183, -0.263365519929761, -0.25403803497796984, -0.24441069864752407, -0.23455402759475025, -0.22453318698151362, -0.21440818145073945, -0.20423405205754264, -0.1940610777296191, -0.18393497993931268, -0.17389712937457963, -0.16398475349688862, -0.15423114397077814, -0.14466586304226736, -0.1353149480316354, -0.12620111319012206, -0.11734394824989722, -0.10876011307231664, -0.10046352787086797, -0.09246555855259615, -0.08477519678507069, -0.07739923445529744, -0.07034243224245071, -0.06360768207798326, -0.05719616331473437, -0.05110749247111655, -0.04533986645754025, -0.039890199230030385, -0.034754251850515214, -0.02992675596489837, -0.02540153073862947, -0.021171593315359796, -0.017229262887540314, -0.013566258488519153, -0.010173790634077723, -0.007042646957453665, -0.004163271995921987, -0.0015258412990541703, 0.0008796699610877298, 0.003063423689083307, 0.005035660679047843, 0.006806647340424493, 0.008386627131820548]\n"
     ]
    }
   ],
   "source": [
    "function simulate_system(pid_controller::PIDController, plant, timesteps, dt)\n",
    "    system_state = 0.0\n",
    "    control_input_history = []\n",
    "    system_state_history = []\n",
    "\n",
    "    for t in 1:timesteps\n",
    "        control_input = update!(pid_controller, system_state, dt)\n",
    "        push!(control_input_history, control_input)\n",
    "\n",
    "        system_state = plant(system_state, control_input, dt)\n",
    "        push!(system_state_history, system_state)\n",
    "    end\n",
    "\n",
    "    return system_state_history, control_input_history\n",
    "end\n",
    "\n",
    "# Define a simple plant model\n",
    "function plant(state, control_input, dt)\n",
    "    return state + control_input * dt\n",
    "end\n",
    "\n",
    "# Set up PID controller\n",
    "Kp = 1.0\n",
    "Ki = 0.5\n",
    "Kd = 0.1\n",
    "setpoint = 5.0\n",
    "pid_controller = PIDController(Kp, Ki, Kd, setpoint)\n",
    "\n",
    "# Simulate the system\n",
    "timesteps = 100\n",
    "dt = 0.1\n",
    "system_state_history, control_input_history = simulate_system(pid_controller, plant, timesteps, dt)\n",
    "\n",
    "# Print the results\n",
    "println(\"System state history: \", system_state_history)\n",
    "println(\"Control input history: \", control_input_history)\n"
   ]
  },
  {
   "cell_type": "code",
   "execution_count": null,
   "id": "0478860f",
   "metadata": {},
   "outputs": [],
   "source": []
  }
 ],
 "metadata": {
  "kernelspec": {
   "display_name": "Julia 1.8.5",
   "language": "julia",
   "name": "julia-1.8"
  },
  "language_info": {
   "file_extension": ".jl",
   "mimetype": "application/julia",
   "name": "julia",
   "version": "1.8.5"
  }
 },
 "nbformat": 4,
 "nbformat_minor": 5
}
