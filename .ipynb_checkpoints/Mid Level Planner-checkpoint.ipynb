{
 "cells": [
  {
   "cell_type": "code",
   "execution_count": 1,
   "id": "df2405ab",
   "metadata": {},
   "outputs": [],
   "source": [
    "using JuMP\n",
    "using Gurobi, Ipopt\n",
    "using PyPlot\n",
    "using LinearAlgebra\n",
    "using CSV\n",
    "using DataFrames\n",
    "using NonlinearSolve"
   ]
  },
  {
   "cell_type": "code",
   "execution_count": null,
   "id": "51d55580",
   "metadata": {},
   "outputs": [],
   "source": [
    "# read data\n",
    "curved_left = DataFrame(CSV.File(\"data\\\\top.csv\"))\n",
    "curved_right = DataFrame(CSV.File(\"data\\\\bottom.csv\"))"
   ]
  },
  {
   "cell_type": "code",
   "execution_count": null,
   "id": "a350d3a4",
   "metadata": {},
   "outputs": [],
   "source": [
    "N = 100\n",
    "lx = curved_left[!,1][1:N]\n",
    "ly = curved_left[!,2][1:N]\n",
    "\n",
    "rx = curved_right[!,1][1:N]\n",
    "ry = curved_right[!,2][1:N]\n",
    "\n",
    "cx = (lx + rx)/2\n",
    "cy = (ly + ry)/2\n",
    "C = [cx cy]\n",
    "\n",
    "ox = cx[50]\n",
    "oy = cy[50]\n",
    "\n",
    "plot(lx,ly)\n",
    "plot(rx,ry)\n",
    "plot(cx,cy)\n",
    "scatter(ox,oy)"
   ]
  },
  {
   "cell_type": "code",
   "execution_count": null,
   "id": "08f0655c",
   "metadata": {},
   "outputs": [],
   "source": [
    "# function E_cur(i)\n",
    "#     i = trunc(Int, i)\n",
    "#     if i == 1\n",
    "#         v1 = X[i,:]\n",
    "#         v2 = X[i+1,:] - X[i,:]\n",
    "#         norm_v1 = v1'*v1\n",
    "#         norm_v2 = v2'*v2\n",
    "#         dTheta = acos( dot(v1,v2)/ (norm_v1*norm_v2))\n",
    "#         deltaX = X[i,:]'*X[i,:]\n",
    "#         return dTheta/deltaX\n",
    "#     elseif i == N\n",
    "#         v1 = X[i,:] - X[i-1,:]\n",
    "#         v2 = -X[i,:]\n",
    "#         norm_v1 = v1'*v1\n",
    "#         norm_v2 = v2'*v2\n",
    "#         v1v2 = dot(v1,v2)\n",
    "#         #dTheta = acos( dot(v1,v2)/ (norm_v1*norm_v2))\n",
    "#         @NLexpression(m, dTheta,  acos(v1v2/ (norm_v1*norm_v2)))\n",
    "#         dx_norm =  (X[i,:] - X[i-1,:])'*(X[i,:] - X[i-1,:]) \n",
    "#         @NLexpression(m, deltaX, dx_norm)\n",
    "#         return dTheta/deltaX\n",
    "#     else\n",
    "#         v1 = X[i,:] - X[i-1,:]\n",
    "#         v2 = X[i+1,:] - X[i,:]\n",
    "#         norm_v1 = v1'*v1\n",
    "#         norm_v2 = v2'*v2\n",
    "        \n",
    "#         dTheta = acos( dot(v1,v2)/ (norm_v1*norm_v2))\n",
    "#         deltaX = (X[i,:] - X[i-1,:])'*((X[i,:] - X[i-1,:]))\n",
    "#         return dTheta/deltaX       \n",
    "#     end\n",
    "# end"
   ]
  },
  {
   "cell_type": "code",
   "execution_count": null,
   "id": "9a2dd698",
   "metadata": {},
   "outputs": [],
   "source": [
    "function E_cur_i(xi,yi,xprev,yprev,xnext,ynext)\n",
    "    v1x = xi - xprev\n",
    "    v1y = yi - yprev\n",
    "    \n",
    "    v2x = xnext - xi\n",
    "    v2y = ynext - yi\n",
    "\n",
    "    v1v2 = v1x*v2x + v1y*v2y\n",
    "    v1norm = sqrt(v1x^2 + v1y^2)\n",
    "    v2norm = sqrt(v2x^2 + v2y^2)\n",
    "    \n",
    "    deltaTheta = acos(v1v2/(v1norm*v2norm))\n",
    "    deltaX = v1norm\n",
    "    \n",
    "    return deltaTheta/deltaX\n",
    "end"
   ]
  },
  {
   "cell_type": "code",
   "execution_count": null,
   "id": "0e8ab7ec",
   "metadata": {},
   "outputs": [],
   "source": [
    "function E_dev_i(x,y,cx,cy)\n",
    "    dx = (x - cx)^2\n",
    "    dy = (y - cy)^2\n",
    "    #println(dx + dy)\n",
    "    return dx + dy\n",
    "end"
   ]
  },
  {
   "cell_type": "code",
   "execution_count": null,
   "id": "bea300c3",
   "metadata": {},
   "outputs": [],
   "source": [
    "function E_obs_i(xi,yi,ox,oy)\n",
    "    thresh = 0.5\n",
    "    dxo = (xi - ox)^2\n",
    "    dyo = (yi - oy)^2\n",
    "    dobsnorm = sqrt(dxo + dyo)\n",
    "    \n",
    "    E_obs = 0.0\n",
    "    if dobsnorm > 0 && dobsnorm < thresh\n",
    "        E_obs = ((1/dobsnorm) - 1)^2\n",
    "    end\n",
    "    #println(dobsnorm)\n",
    "    return E_obs\n",
    "end"
   ]
  },
  {
   "cell_type": "code",
   "execution_count": null,
   "id": "d0b96b99",
   "metadata": {},
   "outputs": [],
   "source": [
    "function E_i(xi,yi,xprev,yprev,xnext,ynext,cx,cy,ox,oy)\n",
    "    \n",
    "#     # curvature term\n",
    "#     v1x = xi - xprev\n",
    "#     v1y = yi - yprev\n",
    "    \n",
    "#     v2x = xnext - xi\n",
    "#     v2y = ynext - yi\n",
    "\n",
    "#     v1v2 = v1x*v2x + v1y*v2y\n",
    "#     v1norm = sqrt(v1x^2 + v1y^2)\n",
    "#     v2norm = sqrt(v2x^2 + v2y^2)\n",
    "    \n",
    "#     deltaTheta = acos(v1v2/(v1norm*v2norm))\n",
    "#     deltaX = v1norm\n",
    "    \n",
    "#     E_cur = deltaTheta/deltaX\n",
    "    \n",
    "    # Deviation term\n",
    "    dx = (xi - cx)^2\n",
    "    dy = (yi - cy)^2\n",
    "    \n",
    "    E_dev = (dx + dy)\n",
    "    \n",
    "#     # Obstacle term\n",
    "#     thresh = 0.5\n",
    "#     dxo = (xi - ox)^2\n",
    "#     dyo = (yi - oy)^2\n",
    "#     dobsnorm = sqrt(dxo + dyo)\n",
    "    \n",
    "#     E_obs = 0\n",
    "#     if dobsnorm < thresh\n",
    "#         E_obs = ((1/dobsnorm) - 1)^2\n",
    "#     end\n",
    "    #println(\"Hello\", E_dev)\n",
    "    return E_dev\n",
    "end"
   ]
  },
  {
   "cell_type": "code",
   "execution_count": null,
   "id": "a073b1af",
   "metadata": {},
   "outputs": [],
   "source": [
    "function ∇E_i()"
   ]
  },
  {
   "cell_type": "code",
   "execution_count": null,
   "id": "a0b25ac3",
   "metadata": {
    "scrolled": false
   },
   "outputs": [],
   "source": [
    "m = Model(Ipopt.Optimizer)\n",
    "register(m, :E_cur_i, 6, E_cur_i, autodiff=true)\n",
    "register(m, :E_dev_i, 4, E_dev_i, autodiff=true)\n",
    "register(m, :E_obs_i, 4, E_obs_i, autodiff=true)\n",
    "#register(m, :E_i, 10, E_i, autodiff=true)\n",
    "w_cur = 1\n",
    "w_dev = 1\n",
    "w_obs = 1\n",
    "\n",
    "@variable(m,x[1:N])\n",
    "@variable(m, y[1:N])\n",
    "set_start_value.(x, cx)\n",
    "set_start_value.(y, cy)\n",
    "\n",
    "\n",
    "#delta_theta = [ (x[i] - x[i+1]) for i = 1:99]\n",
    "#@NLexpression(m, E_cur, sum(E_cur_i(x[i],y[i], x[i-1],y[i-1], x[i+1],y[i+1]) for i in 2:99))\n",
    "@NLexpression(m, E_dev, sum(E_dev_i(x[i],y[i], cx[i], cy[i]) for  i in 2:99))\n",
    "@NLexpression(m, E_obs, sum(E_obs_i(x[i],y[i],ox,oy)  for i in 2:99))\n",
    "#@NLexpression(m, E_cur, sum(  acos( dot((X[i,:] - X[i-1,:]), (X[i+1,:] - X[i,:]))/(  ((X[i,:] - X[i-1,:])'*(X[i,:] - X[i-1,:]))*((X[i+1,:] - X[i,:])'*(X[i+1,:] - X[i,:])) )) /  ((X[i,:] - X[i-1,:])'*((X[i,:] - X[i-1,:])))    for i in 2:99) )\n",
    "@NLobjective(m, Min, E_dev + E_obs)\n",
    "\n",
    "#@NLobjective(m, Min, sum(E_i(x[i],y[i], x[i-1],y[i-1], x[i+1],y[i+1],cx[i],cy[i], ox,oy) for i in 2:99 ))\n",
    "#print(m)\n",
    "\n",
    "optimize!(m)"
   ]
  },
  {
   "cell_type": "code",
   "execution_count": null,
   "id": "14357535",
   "metadata": {},
   "outputs": [],
   "source": [
    "xopt = value.(x)\n",
    "yopt = value.(y)"
   ]
  },
  {
   "cell_type": "code",
   "execution_count": null,
   "id": "f413fbf3",
   "metadata": {},
   "outputs": [],
   "source": [
    "plot(lx,ly)\n",
    "plot(rx,ry)\n",
    "#plot(cx,cy)\n",
    "plot(xopt,yopt)"
   ]
  },
  {
   "cell_type": "code",
   "execution_count": null,
   "id": "a6ffcdd0",
   "metadata": {},
   "outputs": [],
   "source": []
  }
 ],
 "metadata": {
  "kernelspec": {
   "display_name": "Julia 1.8.5",
   "language": "julia",
   "name": "julia-1.8"
  },
  "language_info": {
   "file_extension": ".jl",
   "mimetype": "application/julia",
   "name": "julia",
   "version": "1.8.5"
  }
 },
 "nbformat": 4,
 "nbformat_minor": 5
}
